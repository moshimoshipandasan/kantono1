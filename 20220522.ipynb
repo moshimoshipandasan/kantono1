{
  "nbformat": 4,
  "nbformat_minor": 0,
  "metadata": {
    "colab": {
      "name": "20220522.ipynb",
      "provenance": [],
      "authorship_tag": "ABX9TyMi243hzLhvMm8QpUPCE4Ah",
      "include_colab_link": true
    },
    "kernelspec": {
      "name": "python3",
      "display_name": "Python 3"
    },
    "language_info": {
      "name": "python"
    }
  },
  "cells": [
    {
      "cell_type": "markdown",
      "metadata": {
        "id": "view-in-github",
        "colab_type": "text"
      },
      "source": [
        "<a href=\"https://colab.research.google.com/github/moshimoshipandasan/kantono1/blob/main/20220522.ipynb\" target=\"_parent\"><img src=\"https://colab.research.google.com/assets/colab-badge.svg\" alt=\"Open In Colab\"/></a>"
      ]
    },
    {
      "cell_type": "markdown",
      "source": [
        "# 初めてのMarkdownとHTMLで自己紹介をしてみよう\n",
        "\n",
        "\n",
        "\n"
      ],
      "metadata": {
        "id": "lb_AUZz1wbwX"
      }
    },
    {
      "cell_type": "markdown",
      "source": [
        "# 簡単な計算をしてみよう"
      ],
      "metadata": {
        "id": "wFY6IGKuW212"
      }
    },
    {
      "cell_type": "markdown",
      "source": [
        "#Pythonは詠唱呪文が必要 from import *\n",
        "```rb\n",
        "from IPython.display import YouTubeVideo\n",
        "YouTubeVideo('')\n",
        "```"
      ],
      "metadata": {
        "id": "q4-npeSbWHxf"
      }
    }
  ]
}