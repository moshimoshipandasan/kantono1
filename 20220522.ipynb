{
  "nbformat": 4,
  "nbformat_minor": 0,
  "metadata": {
    "colab": {
      "name": "20220522.ipynb",
      "provenance": [],
      "authorship_tag": "ABX9TyN+UUWFOp9xci0rqDWVbr4M",
      "include_colab_link": true
    },
    "kernelspec": {
      "name": "python3",
      "display_name": "Python 3"
    },
    "language_info": {
      "name": "python"
    }
  },
  "cells": [
    {
      "cell_type": "markdown",
      "metadata": {
        "id": "view-in-github",
        "colab_type": "text"
      },
      "source": [
        "<a href=\"https://colab.research.google.com/github/moshimoshipandasan/kantono1/blob/main/20220522.ipynb\" target=\"_parent\"><img src=\"https://colab.research.google.com/assets/colab-badge.svg\" alt=\"Open In Colab\"/></a>"
      ]
    },
    {
      "cell_type": "markdown",
      "source": [
        "# 初めてのマークダウンで自己紹介をしてみよう\n",
        "\n",
        "\n",
        "\n"
      ],
      "metadata": {
        "id": "lb_AUZz1wbwX"
      }
    },
    {
      "cell_type": "code",
      "source": [
        "#簡単な計算をしてみよう"
      ],
      "metadata": {
        "id": "3pwMhLCGTP_O"
      },
      "execution_count": null,
      "outputs": []
    },
    {
      "cell_type": "code",
      "execution_count": null,
      "metadata": {
        "id": "v5X0oALRwWWl"
      },
      "outputs": [],
      "source": [
        "#Pythonは詠唱呪文が必要 from import *\n",
        "from IPython.display import YouTubeVideo\n",
        "YouTubeVideo('')"
      ]
    }
  ]
}