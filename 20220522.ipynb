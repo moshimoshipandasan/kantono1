{
  "nbformat": 4,
  "nbformat_minor": 0,
  "metadata": {
    "colab": {
      "name": "20220522.ipynb",
      "provenance": [],
      "authorship_tag": "ABX9TyMucKGIWl2/4Y3LMpjKJJwp",
      "include_colab_link": true
    },
    "kernelspec": {
      "name": "python3",
      "display_name": "Python 3"
    },
    "language_info": {
      "name": "python"
    }
  },
  "cells": [
    {
      "cell_type": "markdown",
      "metadata": {
        "id": "view-in-github",
        "colab_type": "text"
      },
      "source": [
        "<a href=\"https://colab.research.google.com/github/moshimoshipandasan/kantono1/blob/main/20220522.ipynb\" target=\"_parent\"><img src=\"https://colab.research.google.com/assets/colab-badge.svg\" alt=\"Open In Colab\"/></a>"
      ]
    },
    {
      "cell_type": "markdown",
      "source": [
        "# 初めてのMarkdownとHTMLで自己紹介をしてみよう\n",
        "\n",
        "\n",
        "\n"
      ],
      "metadata": {
        "id": "lb_AUZz1wbwX"
      }
    },
    {
      "cell_type": "markdown",
      "source": [
        "#画像の貼り方\n",
        "`<img src=\"https://drive.google.com/uc?id=*************************\" width = 100%>`"
      ],
      "metadata": {
        "id": "AtAOMlQ8hnTo"
      }
    },
    {
      "cell_type": "markdown",
      "source": [
        "# 簡単な計算をしてみよう"
      ],
      "metadata": {
        "id": "wFY6IGKuW212"
      }
    },
    {
      "cell_type": "markdown",
      "source": [
        "#Pythonの守護霊召喚 from import * が最強\n",
        "```rb\n",
        "from IPython.display import YouTubeVideo\n",
        "YouTubeVideo('')\n",
        "```"
      ],
      "metadata": {
        "id": "q4-npeSbWHxf"
      }
    },
    {
      "cell_type": "markdown",
      "source": [
        "# Googleドライブとの連携が最強\n",
        "```rb\n",
        "from google.colab import drive\n",
        "drive.mount('/content/drive')\n",
        "```"
      ],
      "metadata": {
        "id": "UgZjoM75Zcsn"
      }
    },
    {
      "cell_type": "markdown",
      "source": [
        "# スプレッドシートも操作できる\n",
        "将来的にやります！"
      ],
      "metadata": {
        "id": "H1ti-DF0crqn"
      }
    },
    {
      "cell_type": "code",
      "source": [
        "from google.colab import drive\n",
        "drive.mount('/content/drive')"
      ],
      "metadata": {
        "id": "Y7xcCobqaSfA"
      },
      "execution_count": null,
      "outputs": []
    },
    {
      "cell_type": "code",
      "source": [
        "from google.colab import auth\n",
        "auth.authenticate_user()\n",
        "\n",
        "import gspread\n",
        "from google.auth import default\n",
        "creds, _ = default()\n",
        "\n",
        "gc = gspread.authorize(creds)"
      ],
      "metadata": {
        "id": "-AqR4IQHbk6O"
      },
      "execution_count": null,
      "outputs": []
    },
    {
      "cell_type": "code",
      "source": [
        "sh = gc.create('初めてのスプレッドシート')"
      ],
      "metadata": {
        "id": "amkzUIggbY2n"
      },
      "execution_count": null,
      "outputs": []
    },
    {
      "cell_type": "code",
      "source": [
        "worksheet = gc.open('初めてのスプレッドシート').sheet1\n",
        "\n",
        "cell_list = worksheet.range('A1:C3')\n",
        "\n",
        "import random\n",
        "for cell in cell_list:\n",
        "  cell.value = random.randint(1, 10)\n",
        "\n",
        "worksheet.update_cells(cell_list)"
      ],
      "metadata": {
        "id": "JgUQVfu1bIaf"
      },
      "execution_count": null,
      "outputs": []
    },
    {
      "cell_type": "code",
      "source": [
        "worksheet = gc.open('初めてのスプレッドシート').sheet1\n",
        "\n",
        "# get_all_values gives a list of rows.\n",
        "rows = worksheet.get_all_values()\n",
        "print(rows)\n",
        "\n",
        "import pandas as pd\n",
        "pd.DataFrame.from_records(rows)"
      ],
      "metadata": {
        "id": "A9-ZCusqcNeR"
      },
      "execution_count": null,
      "outputs": []
    }
  ]
}