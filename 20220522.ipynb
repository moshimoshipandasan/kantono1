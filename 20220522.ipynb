{
  "nbformat": 4,
  "nbformat_minor": 0,
  "metadata": {
    "colab": {
      "name": "20220522.ipynb",
      "provenance": [],
      "authorship_tag": "ABX9TyPAqJhi20eu4ZZPa1Xi7kma",
      "include_colab_link": true
    },
    "kernelspec": {
      "name": "python3",
      "display_name": "Python 3"
    },
    "language_info": {
      "name": "python"
    }
  },
  "cells": [
    {
      "cell_type": "markdown",
      "metadata": {
        "id": "view-in-github",
        "colab_type": "text"
      },
      "source": [
        "<a href=\"https://colab.research.google.com/github/moshimoshipandasan/kantono1/blob/main/20220522.ipynb\" target=\"_parent\"><img src=\"https://colab.research.google.com/assets/colab-badge.svg\" alt=\"Open In Colab\"/></a>"
      ]
    },
    {
      "cell_type": "markdown",
      "source": [
        "# <font color=\"blue\">初めてのMarkdownとHTML</font>\n",
        "##### 自己紹介をしてみよう\n",
        "\n",
        "\n",
        "\n"
      ],
      "metadata": {
        "id": "lb_AUZz1wbwX"
      }
    },
    {
      "cell_type": "markdown",
      "source": [
        "### <font color=\"green\">Googleドライブ内の画像の貼り方</font>\n",
        "`<img src=\"https://drive.google.com/uc?id=*************************\" width = 100%>`"
      ],
      "metadata": {
        "id": "AtAOMlQ8hnTo"
      }
    },
    {
      "cell_type": "markdown",
      "source": [
        "# <font color=\"blue\">初めてのPython</font>\n",
        "#### 簡単な計算をしてみよう"
      ],
      "metadata": {
        "id": "wFY6IGKuW212"
      }
    },
    {
      "cell_type": "markdown",
      "source": [
        "# <font color=\"red\">Pythonの守護霊召喚 from import * が最強</font>\n",
        "```python\n",
        "from IPython.display import YouTubeVideo\n",
        "YouTubeVideo('')\n",
        "```"
      ],
      "metadata": {
        "id": "q4-npeSbWHxf"
      }
    },
    {
      "cell_type": "markdown",
      "source": [
        "#<font color=\"red\">守護霊召喚  from import * を使うとグラフだって簡単に出来ちゃう</font>"
      ],
      "metadata": {
        "id": "2PZPB3pYmd_Z"
      }
    },
    {
      "cell_type": "code",
      "source": [
        "#まずは日本語化\n",
        "!pip install japanize-matplotlib"
      ],
      "metadata": {
        "id": "ruReFe7Bj5EJ"
      },
      "execution_count": null,
      "outputs": []
    },
    {
      "cell_type": "markdown",
      "source": [
        "### コピペして実行してみよう\n",
        "```python\n",
        "import matplotlib.pyplot as plt\n",
        "import japanize_matplotlib\n",
        "import numpy as np\n",
        "import math\n",
        "x = np.linspace(-np.pi, np.pi)\n",
        "plt.plot(x, np.cos(x), color='r', ls='-', label='cos')\n",
        "plt.plot(x, np.sin(x), color='b', ls='-', label='sin')\n",
        "plt.plot(x, np.tan(x), color='c', marker='s', ls='None', label='tan')\n",
        "\n",
        "plt.xlim(-np.pi, np.pi)\n",
        "plt.ylim(-1.5, 1.5)\n",
        "\n",
        "plt.axhline(0, ls='-', c='b', lw=0.5)\n",
        "plt.axvline(0, ls='-', c='b', lw=0.5)\n",
        "\n",
        "plt.legend()\n",
        "plt.xlabel('x軸')\n",
        "plt.ylabel('y軸')\n",
        "plt.title('三角関数のグラグ')\n",
        "\n",
        "plt.show()\n",
        "```"
      ],
      "metadata": {
        "id": "XGKCqnIxnnda"
      }
    },
    {
      "cell_type": "markdown",
      "source": [
        "# Googleドライブとの連携が最強\n",
        "```python\n",
        "from google.colab import drive\n",
        "drive.mount('/content/drive')\n",
        "```"
      ],
      "metadata": {
        "id": "UgZjoM75Zcsn"
      }
    },
    {
      "cell_type": "markdown",
      "source": [
        "# スプレッドシートも操作できる"
      ],
      "metadata": {
        "id": "H1ti-DF0crqn"
      }
    },
    {
      "cell_type": "code",
      "source": [
        "#Googleドライブとの連携\n",
        "from google.colab import drive\n",
        "drive.mount('/content/drive')"
      ],
      "metadata": {
        "id": "Y7xcCobqaSfA",
        "colab": {
          "base_uri": "https://localhost:8080/"
        },
        "outputId": "cf121320-f0ce-43ac-bd20-ec936010b721"
      },
      "execution_count": 11,
      "outputs": [
        {
          "output_type": "stream",
          "name": "stdout",
          "text": [
            "Drive already mounted at /content/drive; to attempt to forcibly remount, call drive.mount(\"/content/drive\", force_remount=True).\n"
          ]
        }
      ]
    },
    {
      "cell_type": "code",
      "source": [
        "from google.colab import auth\n",
        "auth.authenticate_user()\n",
        "\n",
        "import gspread\n",
        "from google.auth import default\n",
        "creds, _ = default()\n",
        "\n",
        "gc = gspread.authorize(creds)"
      ],
      "metadata": {
        "id": "-AqR4IQHbk6O"
      },
      "execution_count": 12,
      "outputs": []
    },
    {
      "cell_type": "code",
      "source": [
        "sh = gc.create('初めてのスプレッドシート')"
      ],
      "metadata": {
        "id": "amkzUIggbY2n"
      },
      "execution_count": 13,
      "outputs": []
    },
    {
      "cell_type": "code",
      "source": [
        "worksheet = gc.open('初めてのスプレッドシート').sheet1\n",
        "\n",
        "cell_list = worksheet.range('A1:C3')\n",
        "\n",
        "import random\n",
        "for cell in cell_list:\n",
        "  cell.value = random.randint(1, 10)\n",
        "\n",
        "worksheet.update_cells(cell_list)"
      ],
      "metadata": {
        "id": "JgUQVfu1bIaf",
        "colab": {
          "base_uri": "https://localhost:8080/"
        },
        "outputId": "eddb7f33-a2b6-4305-afa9-7f27cf0b79af"
      },
      "execution_count": 14,
      "outputs": [
        {
          "output_type": "execute_result",
          "data": {
            "text/plain": [
              "{'spreadsheetId': '1BgNpSfXSdSBgE4cfBG6C18SmZRY6oO6t3vBsdYCa538',\n",
              " 'updatedCells': 9,\n",
              " 'updatedColumns': 3,\n",
              " 'updatedRange': \"'シート1'!A1:C3\",\n",
              " 'updatedRows': 3}"
            ]
          },
          "metadata": {},
          "execution_count": 14
        }
      ]
    },
    {
      "cell_type": "code",
      "source": [
        "worksheet = gc.open('初めてのスプレッドシート').sheet1\n",
        "\n",
        "# get_all_values gives a list of rows.\n",
        "rows = worksheet.get_all_values()\n",
        "print(rows)\n",
        "\n",
        "import pandas as pd\n",
        "pd.DataFrame.from_records(rows)"
      ],
      "metadata": {
        "id": "A9-ZCusqcNeR",
        "colab": {
          "base_uri": "https://localhost:8080/",
          "height": 161
        },
        "outputId": "3a19ed04-aedf-4fa3-c9d2-5adcd886debc"
      },
      "execution_count": 15,
      "outputs": [
        {
          "output_type": "stream",
          "name": "stdout",
          "text": [
            "[['1', '6', '3'], ['8', '9', '7'], ['3', '9', '9']]\n"
          ]
        },
        {
          "output_type": "execute_result",
          "data": {
            "text/plain": [
              "   0  1  2\n",
              "0  1  6  3\n",
              "1  8  9  7\n",
              "2  3  9  9"
            ],
            "text/html": [
              "\n",
              "  <div id=\"df-3f04fd21-fe34-4a37-b313-f4155d556e38\">\n",
              "    <div class=\"colab-df-container\">\n",
              "      <div>\n",
              "<style scoped>\n",
              "    .dataframe tbody tr th:only-of-type {\n",
              "        vertical-align: middle;\n",
              "    }\n",
              "\n",
              "    .dataframe tbody tr th {\n",
              "        vertical-align: top;\n",
              "    }\n",
              "\n",
              "    .dataframe thead th {\n",
              "        text-align: right;\n",
              "    }\n",
              "</style>\n",
              "<table border=\"1\" class=\"dataframe\">\n",
              "  <thead>\n",
              "    <tr style=\"text-align: right;\">\n",
              "      <th></th>\n",
              "      <th>0</th>\n",
              "      <th>1</th>\n",
              "      <th>2</th>\n",
              "    </tr>\n",
              "  </thead>\n",
              "  <tbody>\n",
              "    <tr>\n",
              "      <th>0</th>\n",
              "      <td>1</td>\n",
              "      <td>6</td>\n",
              "      <td>3</td>\n",
              "    </tr>\n",
              "    <tr>\n",
              "      <th>1</th>\n",
              "      <td>8</td>\n",
              "      <td>9</td>\n",
              "      <td>7</td>\n",
              "    </tr>\n",
              "    <tr>\n",
              "      <th>2</th>\n",
              "      <td>3</td>\n",
              "      <td>9</td>\n",
              "      <td>9</td>\n",
              "    </tr>\n",
              "  </tbody>\n",
              "</table>\n",
              "</div>\n",
              "      <button class=\"colab-df-convert\" onclick=\"convertToInteractive('df-3f04fd21-fe34-4a37-b313-f4155d556e38')\"\n",
              "              title=\"Convert this dataframe to an interactive table.\"\n",
              "              style=\"display:none;\">\n",
              "        \n",
              "  <svg xmlns=\"http://www.w3.org/2000/svg\" height=\"24px\"viewBox=\"0 0 24 24\"\n",
              "       width=\"24px\">\n",
              "    <path d=\"M0 0h24v24H0V0z\" fill=\"none\"/>\n",
              "    <path d=\"M18.56 5.44l.94 2.06.94-2.06 2.06-.94-2.06-.94-.94-2.06-.94 2.06-2.06.94zm-11 1L8.5 8.5l.94-2.06 2.06-.94-2.06-.94L8.5 2.5l-.94 2.06-2.06.94zm10 10l.94 2.06.94-2.06 2.06-.94-2.06-.94-.94-2.06-.94 2.06-2.06.94z\"/><path d=\"M17.41 7.96l-1.37-1.37c-.4-.4-.92-.59-1.43-.59-.52 0-1.04.2-1.43.59L10.3 9.45l-7.72 7.72c-.78.78-.78 2.05 0 2.83L4 21.41c.39.39.9.59 1.41.59.51 0 1.02-.2 1.41-.59l7.78-7.78 2.81-2.81c.8-.78.8-2.07 0-2.86zM5.41 20L4 18.59l7.72-7.72 1.47 1.35L5.41 20z\"/>\n",
              "  </svg>\n",
              "      </button>\n",
              "      \n",
              "  <style>\n",
              "    .colab-df-container {\n",
              "      display:flex;\n",
              "      flex-wrap:wrap;\n",
              "      gap: 12px;\n",
              "    }\n",
              "\n",
              "    .colab-df-convert {\n",
              "      background-color: #E8F0FE;\n",
              "      border: none;\n",
              "      border-radius: 50%;\n",
              "      cursor: pointer;\n",
              "      display: none;\n",
              "      fill: #1967D2;\n",
              "      height: 32px;\n",
              "      padding: 0 0 0 0;\n",
              "      width: 32px;\n",
              "    }\n",
              "\n",
              "    .colab-df-convert:hover {\n",
              "      background-color: #E2EBFA;\n",
              "      box-shadow: 0px 1px 2px rgba(60, 64, 67, 0.3), 0px 1px 3px 1px rgba(60, 64, 67, 0.15);\n",
              "      fill: #174EA6;\n",
              "    }\n",
              "\n",
              "    [theme=dark] .colab-df-convert {\n",
              "      background-color: #3B4455;\n",
              "      fill: #D2E3FC;\n",
              "    }\n",
              "\n",
              "    [theme=dark] .colab-df-convert:hover {\n",
              "      background-color: #434B5C;\n",
              "      box-shadow: 0px 1px 3px 1px rgba(0, 0, 0, 0.15);\n",
              "      filter: drop-shadow(0px 1px 2px rgba(0, 0, 0, 0.3));\n",
              "      fill: #FFFFFF;\n",
              "    }\n",
              "  </style>\n",
              "\n",
              "      <script>\n",
              "        const buttonEl =\n",
              "          document.querySelector('#df-3f04fd21-fe34-4a37-b313-f4155d556e38 button.colab-df-convert');\n",
              "        buttonEl.style.display =\n",
              "          google.colab.kernel.accessAllowed ? 'block' : 'none';\n",
              "\n",
              "        async function convertToInteractive(key) {\n",
              "          const element = document.querySelector('#df-3f04fd21-fe34-4a37-b313-f4155d556e38');\n",
              "          const dataTable =\n",
              "            await google.colab.kernel.invokeFunction('convertToInteractive',\n",
              "                                                     [key], {});\n",
              "          if (!dataTable) return;\n",
              "\n",
              "          const docLinkHtml = 'Like what you see? Visit the ' +\n",
              "            '<a target=\"_blank\" href=https://colab.research.google.com/notebooks/data_table.ipynb>data table notebook</a>'\n",
              "            + ' to learn more about interactive tables.';\n",
              "          element.innerHTML = '';\n",
              "          dataTable['output_type'] = 'display_data';\n",
              "          await google.colab.output.renderOutput(dataTable, element);\n",
              "          const docLink = document.createElement('div');\n",
              "          docLink.innerHTML = docLinkHtml;\n",
              "          element.appendChild(docLink);\n",
              "        }\n",
              "      </script>\n",
              "    </div>\n",
              "  </div>\n",
              "  "
            ]
          },
          "metadata": {},
          "execution_count": 15
        }
      ]
    }
  ]
}