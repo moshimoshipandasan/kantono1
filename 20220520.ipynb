{
  "nbformat": 4,
  "nbformat_minor": 0,
  "metadata": {
    "colab": {
      "name": "20220520.ipynb",
      "provenance": [],
      "authorship_tag": "ABX9TyP6rgMo+2Ay6hO7InVN+wcE",
      "include_colab_link": true
    },
    "kernelspec": {
      "name": "python3",
      "display_name": "Python 3"
    },
    "language_info": {
      "name": "python"
    }
  },
  "cells": [
    {
      "cell_type": "markdown",
      "metadata": {
        "id": "view-in-github",
        "colab_type": "text"
      },
      "source": [
        "<a href=\"https://colab.research.google.com/github/moshimoshipandasan/kantono1/blob/main/20220520.ipynb\" target=\"_parent\"><img src=\"https://colab.research.google.com/assets/colab-badge.svg\" alt=\"Open In Colab\"/></a>"
      ]
    },
    {
      "cell_type": "markdown",
      "source": [
        "# <font color=\"blue\">初めてのMarkdownとHTML</font>\n",
        "[マークダウンとは](https://notepm.jp/help/how-to-markdown)\n",
        "##### 自己紹介をしてみよう\n",
        "\n",
        "\n",
        "\n"
      ],
      "metadata": {
        "id": "lb_AUZz1wbwX"
      }
    },
    {
      "cell_type": "markdown",
      "source": [
        "\n",
        "### <font color=\"green\">文字の色の付け方</font>\n",
        "`<font color=\"blue\">こんにちは</font>`"
      ],
      "metadata": {
        "id": "rc928Hdk68MO"
      }
    },
    {
      "cell_type": "markdown",
      "source": [
        "### <font color=\"green\">Googleドライブ内の画像の貼り方</font>\n",
        "`<img src=\"https://drive.google.com/uc?id=*************************\" width = 100%>`"
      ],
      "metadata": {
        "id": "AtAOMlQ8hnTo"
      }
    },
    {
      "cell_type": "markdown",
      "source": [
        "# <font color=\"blue\">初めてのPython</font>\n",
        "#### 簡単な計算をしてみよう"
      ],
      "metadata": {
        "id": "wFY6IGKuW212"
      }
    },
    {
      "cell_type": "markdown",
      "source": [
        "値の表示\n",
        "```python\n",
        "print('hello world')\n",
        "```"
      ],
      "metadata": {
        "id": "QHFOROsd7kKu"
      }
    },
    {
      "cell_type": "markdown",
      "source": [
        "文字列と数値\n",
        "```python\n",
        "print(9 + 3)\n",
        "print('9 + 3')\n",
        "```"
      ],
      "metadata": {
        "id": "B3CYkU0Q7x7V"
      }
    },
    {
      "cell_type": "markdown",
      "source": [
        "算術演算子 代入演算子\n",
        "\n",
        "https://www.tohoho-web.com/python/operators.html\n",
        "\n",
        "Pythonのビット演算の使い方: 左シフト、右シフト、論理積、論理和、排他的論理和、反転など\n",
        "\n",
        "https://yu-nix.com/blog/2021/5/26/python-bit/\n",
        "\n",
        "```python\n",
        "print(9 / 2) #割り算\n",
        "print(7 * 3) #掛け算\n",
        "print(9 % 2) #余り\n",
        "print(9 // 2) #商\n",
        "print(9 ** 2) #2乗\n",
        "```"
      ],
      "metadata": {
        "id": "Qxm8IjL28Hfs"
      }
    },
    {
      "cell_type": "markdown",
      "source": [
        "初期値2000円に5000円足した結果を表示してみましょう\n",
        "```python\n",
        "money = 2000\n",
        "print(money)\n",
        "\n",
        "# 変数 money に 5000 を足して、変数 money を上書きしてください\n",
        "money += 5000\n",
        "\n",
        "# 変数 money の値を出力してください\n",
        "print(money)\n",
        "```"
      ],
      "metadata": {
        "id": "yNa7my1H8ls1"
      }
    },
    {
      "cell_type": "markdown",
      "source": [
        "文字列の連結<font color=\"red\">※ここからが間違えやすいよ</font>\n",
        "```python\n",
        "# my_name という変数に「 ねこ 」という文字列を代入してください\n",
        "my_name = 'ねこ'\n",
        "\n",
        "# my_name を用いて、「吾輩はねこである」となるように変数と文字列を連結して出力してください\n",
        "print('吾輩は' + my_name + 'である')\n",
        "```"
      ],
      "metadata": {
        "id": "F-0nJ6eh8-rq"
      }
    },
    {
      "cell_type": "markdown",
      "source": [
        "# <font color=\"red\">Pythonの守護霊召喚 from import * が最強</font>\n",
        "```python\n",
        "from IPython.display import YouTubeVideo\n",
        "YouTubeVideo('')\n",
        "```"
      ],
      "metadata": {
        "id": "q4-npeSbWHxf"
      }
    },
    {
      "cell_type": "markdown",
      "source": [
        "#<font color=\"red\">守護霊召喚  from import * を使うとグラフだって簡単に出来ちゃう</font>"
      ],
      "metadata": {
        "id": "2PZPB3pYmd_Z"
      }
    },
    {
      "cell_type": "code",
      "source": [
        "#まずは日本語化\n",
        "!pip install japanize-matplotlib"
      ],
      "metadata": {
        "id": "ruReFe7Bj5EJ"
      },
      "execution_count": null,
      "outputs": []
    },
    {
      "cell_type": "markdown",
      "source": [
        "### コピペして実行してみよう\n",
        "```python\n",
        "import matplotlib.pyplot as plt\n",
        "import japanize_matplotlib\n",
        "import numpy as np\n",
        "import math\n",
        "x = np.linspace(-np.pi, np.pi)\n",
        "plt.plot(x, np.cos(x), color='r', ls='-', label='cos')\n",
        "plt.plot(x, np.sin(x), color='b', ls='-', label='sin')\n",
        "plt.plot(x, np.tan(x), color='c', marker='s', ls='None', label='tan')\n",
        "\n",
        "plt.xlim(-np.pi, np.pi)\n",
        "plt.ylim(-1.5, 1.5)\n",
        "\n",
        "plt.axhline(0, ls='-', c='b', lw=0.5)\n",
        "plt.axvline(0, ls='-', c='b', lw=0.5)\n",
        "\n",
        "plt.legend()\n",
        "plt.xlabel('x軸')\n",
        "plt.ylabel('y軸')\n",
        "plt.title('三角関数のグラグ')\n",
        "\n",
        "plt.show()\n",
        "```"
      ],
      "metadata": {
        "id": "XGKCqnIxnnda"
      }
    },
    {
      "cell_type": "markdown",
      "source": [
        "# <font color=\"red\">Googleドライブとの連携が最強</font>\n",
        "```python\n",
        "from google.colab import drive\n",
        "drive.mount('/content/drive')\n",
        "```"
      ],
      "metadata": {
        "id": "UgZjoM75Zcsn"
      }
    },
    {
      "cell_type": "markdown",
      "source": [
        "# <font color=\"red\">スプレッドシートも操作できる</font>"
      ],
      "metadata": {
        "id": "H1ti-DF0crqn"
      }
    },
    {
      "cell_type": "code",
      "source": [
        "#Googleドライブとの連携\n",
        "from google.colab import drive\n",
        "drive.mount('/content/drive')"
      ],
      "metadata": {
        "id": "Y7xcCobqaSfA",
        "colab": {
          "base_uri": "https://localhost:8080/"
        },
        "outputId": "cf121320-f0ce-43ac-bd20-ec936010b721"
      },
      "execution_count": null,
      "outputs": [
        {
          "output_type": "stream",
          "name": "stdout",
          "text": [
            "Drive already mounted at /content/drive; to attempt to forcibly remount, call drive.mount(\"/content/drive\", force_remount=True).\n"
          ]
        }
      ]
    },
    {
      "cell_type": "code",
      "source": [
        "from google.colab import auth\n",
        "auth.authenticate_user()\n",
        "\n",
        "import gspread\n",
        "from google.auth import default\n",
        "creds, _ = default()\n",
        "\n",
        "gc = gspread.authorize(creds)"
      ],
      "metadata": {
        "id": "-AqR4IQHbk6O"
      },
      "execution_count": null,
      "outputs": []
    },
    {
      "cell_type": "code",
      "source": [
        "#新しいスプレッドシートの生成\n",
        "sh = gc.create('初めてのスプレッドシート')"
      ],
      "metadata": {
        "id": "amkzUIggbY2n"
      },
      "execution_count": null,
      "outputs": []
    },
    {
      "cell_type": "code",
      "source": [
        "worksheet = gc.open('初めてのスプレッドシート').sheet1\n",
        "\n",
        "cell_list = worksheet.range('A1:C3')\n",
        "\n",
        "import random\n",
        "for cell in cell_list:\n",
        "  cell.value = random.randint(1, 10)\n",
        "\n",
        "worksheet.update_cells(cell_list)"
      ],
      "metadata": {
        "id": "JgUQVfu1bIaf"
      },
      "execution_count": null,
      "outputs": []
    },
    {
      "cell_type": "code",
      "source": [
        "worksheet = gc.open('初めてのスプレッドシート').sheet1\n",
        "\n",
        "# get_all_values gives a list of rows.\n",
        "rows = worksheet.get_all_values()\n",
        "print(rows)\n",
        "\n",
        "import pandas as pd\n",
        "pd.DataFrame.from_records(rows)"
      ],
      "metadata": {
        "id": "A9-ZCusqcNeR"
      },
      "execution_count": null,
      "outputs": []
    }
  ]
}